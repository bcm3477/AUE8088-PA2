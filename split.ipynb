{
 "cells": [
  {
   "cell_type": "code",
   "execution_count": 3,
   "metadata": {},
   "outputs": [
    {
     "ename": "ModuleNotFoundError",
     "evalue": "No module named 'sklearn'",
     "output_type": "error",
     "traceback": [
      "\u001b[0;31m---------------------------------------------------------------------------\u001b[0m",
      "\u001b[0;31mModuleNotFoundError\u001b[0m                       Traceback (most recent call last)",
      "Cell \u001b[0;32mIn[3], line 2\u001b[0m\n\u001b[1;32m      1\u001b[0m \u001b[38;5;28;01mimport\u001b[39;00m \u001b[38;5;21;01mos\u001b[39;00m\n\u001b[0;32m----> 2\u001b[0m \u001b[38;5;28;01mfrom\u001b[39;00m \u001b[38;5;21;01msklearn\u001b[39;00m\u001b[38;5;21;01m.\u001b[39;00m\u001b[38;5;21;01mmodel_selection\u001b[39;00m \u001b[38;5;28;01mimport\u001b[39;00m train_test_split\n\u001b[1;32m      4\u001b[0m \u001b[38;5;66;03m# train-all-04.txt 파일 경로\u001b[39;00m\n\u001b[1;32m      5\u001b[0m file_path \u001b[38;5;241m=\u001b[39m \u001b[38;5;124m'\u001b[39m\u001b[38;5;124m/kasit-rgbt/train-all-04.txt\u001b[39m\u001b[38;5;124m'\u001b[39m\n",
      "\u001b[0;31mModuleNotFoundError\u001b[0m: No module named 'sklearn'"
     ]
    }
   ],
   "source": [
    "import os\n",
    "from sklearn.model_selection import train_test_split\n",
    "\n",
    "# train-all-04.txt 파일 경로\n",
    "file_path = '/kasit-rgbt/train-all-04.txt'\n",
    "\n",
    "# 파일 읽기\n",
    "with open(file_path, 'r') as f:\n",
    "    lines = f.readlines()\n",
    "\n",
    "# 파일 경로 정리\n",
    "lines = [line.strip() for line in lines]\n",
    "\n",
    "# 학습과 검증 데이터셋으로 분할 (예: 80% 학습, 20% 검증)\n",
    "train_lines, val_lines = train_test_split(lines, test_size=0.2, random_state=42)\n",
    "\n",
    "# 분할된 파일을 각각 train.txt와 val.txt로 저장\n",
    "train_file_path = '/kasit-rgbt/train.txt'\n",
    "val_file_path = '/kasit-rgbt/val.txt'\n",
    "\n",
    "with open(train_file_path, 'w') as f:\n",
    "    for line in train_lines:\n",
    "        f.write(f\"{line}\\n\")\n",
    "\n",
    "with open(val_file_path, 'w') as f:\n",
    "    for line in val_lines:\n",
    "        f.write(f\"{line}\\n\")\n",
    "\n",
    "print(f\"Train and validation files have been created:\\nTrain file: {train_file_path}\\nValidation file: {val_file_path}\")\n"
   ]
  }
 ],
 "metadata": {
  "kernelspec": {
   "display_name": "PA1",
   "language": "python",
   "name": "python3"
  },
  "language_info": {
   "codemirror_mode": {
    "name": "ipython",
    "version": 3
   },
   "file_extension": ".py",
   "mimetype": "text/x-python",
   "name": "python",
   "nbconvert_exporter": "python",
   "pygments_lexer": "ipython3",
   "version": "3.9.-1"
  }
 },
 "nbformat": 4,
 "nbformat_minor": 2
}
